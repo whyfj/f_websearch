{
 "cells": [
  {
   "cell_type": "code",
   "execution_count": 3,
   "metadata": {},
   "outputs": [],
   "source": [
    "from IPython.core.display import HTML\n",
    "import jieba\n",
    "\n",
    "class Searcheriindex():\n",
    "    def __init__(self,title_file):\n",
    "        self.index = dict()\n",
    "        self.max_id = 0\n",
    "        self.title_list = []\n",
    "\n",
    "        with open(title_file, 'r') as f:\n",
    "            titles = f.read()\n",
    "            \n",
    "        for title in titles.split():\n",
    "            self.add_doc(title)\n",
    "            \n",
    "    def add_doc(self,doc):\n",
    "        self.title_list.append(doc) \n",
    "        for term in list(jieba.cut_for_search(doc)):\n",
    "            if term in self.index:\n",
    "                self.index[term].add(self.max_id)\n",
    "            else:\n",
    "                self.index[term] = set([self.max_id])\n",
    "        self.max_id += 1\n",
    "        return self.max_id - 1\n",
    "    \n",
    "    def word_match(self,word):\n",
    "        result = None\n",
    "        for term in list(jieba.cut(word)):\n",
    "            if result is None:\n",
    "                result = self.index.get(term,set())\n",
    "            else:\n",
    "                result = result & self.index.get(term,set())\n",
    "        if result is None:\n",
    "            result = set()      \n",
    "        return result\n",
    "\n",
    "    def conv_query(self,query):\n",
    "        query_new_parts = []\n",
    "        all_parts = list(jieba.cut(query))\n",
    "        idx = 0\n",
    "        cache = \"\"\n",
    "        count_parts = len(all_parts)\n",
    "        while idx < count_parts:\n",
    "            if all_parts[idx] == \"(\" or all_parts[idx] == \")\":\n",
    "                query_new_parts.append(all_parts[idx])\n",
    "            elif all_parts[idx] == \" \":\n",
    "                query_new_parts.append(\" \")\n",
    "            elif all_parts[idx] in (\"and\", \"AND\", \"+\"):\n",
    "                query_new_parts.append(\"&\")\n",
    "            elif all_parts[idx] in (\"or\", \"OR\"):\n",
    "                query_new_parts.append(\"|\")\n",
    "            elif all_parts[idx] in (\"not\", \"NOT\", \"-\"):\n",
    "                query_new_parts.append(\"-\")\n",
    "            elif (idx + 1 < count_parts\n",
    "                  and all_parts[idx+1] not in (\" \", \")\")):\n",
    "                cache += all_parts[idx]\n",
    "            elif (idx + 2 < count_parts\n",
    "                  and all_parts[idx+1] == \" \"\n",
    "                  and all_parts[idx+2] not in (\"(\", \")\", \"and\", \"AND\", \"+\", \"or\", \"OR\", \"not\", \"NOT\", \"-\", \" \",)):\n",
    "                query_new_parts.append(\"self.word_match('{}') & \".format(all_parts[idx]))\n",
    "            else:\n",
    "                query_new_parts.append(\"self.word_match('{}')\".format(cache + all_parts[idx]))\n",
    "                cache = \"\"\n",
    "            idx += 1\n",
    "        query_new = \" \".join(query_new_parts)\n",
    "        return query_new\n",
    "\n",
    "    def highlighter(self,doc,word):\n",
    "        for part in list(jieba.cut(word)):\n",
    "            if part not in (\"(\", \")\", \"and\", \"AND\", \"or\", \"OR\", \"not\", \"NOT\", \" \"):\n",
    "                doc = doc.replace(part, '<span style=\"color:red\">{}</span>'.format(part))\n",
    "        return doc\n",
    "\n",
    "    def search(self,query):\n",
    "        result = []\n",
    "        query_new = self.conv_query(query)\n",
    "        for did in eval(query_new):\n",
    "            result.append(self.highlighter(self.title_list[did], query))\n",
    "        return result"
   ]
  },
  {
   "cell_type": "code",
   "execution_count": 4,
   "metadata": {},
   "outputs": [
    {
     "name": "stderr",
     "output_type": "stream",
     "text": [
      "Building prefix dict from the default dictionary ...\n",
      "Loading model from cache C:\\Users\\FJC\\AppData\\Local\\Temp\\jieba.cache\n",
      "Loading model cost 0.704 seconds.\n",
      "Prefix dict has been built succesfully.\n"
     ]
    }
   ],
   "source": [
    "searcher = Searcheriindex(\"tiles.txt\")"
   ]
  },
  {
   "cell_type": "code",
   "execution_count": 5,
   "metadata": {},
   "outputs": [
    {
     "name": "stdout",
     "output_type": "stream",
     "text": [
      "苹果|芯片| |and| |(|三星| |or| |华为|)\n",
      "self.word_match('苹果芯片')   &   ( self.word_match('三星')   |   self.word_match('华为') )\n"
     ]
    },
    {
     "data": {
      "text/html": [
       "外媒揭秘<span style=\"color:red\">苹果</span>A13<span style=\"color:red\">芯片</span>：比<span style=\"color:red\">三星</span><span style=\"color:red\">华为</span>高通<span style=\"color:red\">芯片</span>好在哪"
      ],
      "text/plain": [
       "<IPython.core.display.HTML object>"
      ]
     },
     "metadata": {},
     "output_type": "display_data"
    },
    {
     "data": {
      "text/html": [
       "外媒揭秘<span style=\"color:red\">苹果</span>A13<span style=\"color:red\">芯片</span>：比<span style=\"color:red\">三星</span><span style=\"color:red\">华为</span>高通<span style=\"color:red\">芯片</span>好在哪"
      ],
      "text/plain": [
       "<IPython.core.display.HTML object>"
      ]
     },
     "metadata": {},
     "output_type": "display_data"
    },
    {
     "name": "stdout",
     "output_type": "stream",
     "text": [
      "3| |-| |0\n",
      "self.word_match('3')   -   self.word_match('0')\n"
     ]
    },
    {
     "data": {
      "text/html": [
       "《莎木<span style=\"color:red\">3</span>》众筹玩家可换至PS4版本Steam激活"
      ],
      "text/plain": [
       "<IPython.core.display.HTML object>"
      ]
     },
     "metadata": {},
     "output_type": "display_data"
    },
    {
     "data": {
      "text/html": [
       "关于全新马自达<span style=\"color:red\">3</span>"
      ],
      "text/plain": [
       "<IPython.core.display.HTML object>"
      ]
     },
     "metadata": {},
     "output_type": "display_data"
    },
    {
     "data": {
      "text/html": [
       "高收入妻子造<span style=\"color:red\">3</span>层别墅养老公"
      ],
      "text/plain": [
       "<IPython.core.display.HTML object>"
      ]
     },
     "metadata": {},
     "output_type": "display_data"
    },
    {
     "data": {
      "text/html": [
       "高职学生第<span style=\"color:red\">3</span>次炫耀在寝室吃火锅"
      ],
      "text/plain": [
       "<IPython.core.display.HTML object>"
      ]
     },
     "metadata": {},
     "output_type": "display_data"
    },
    {
     "data": {
      "text/html": [
       "国庆7<span style=\"color:red\">0</span>周年庆祝活动第<span style=\"color:red\">3</span>次演练结束"
      ],
      "text/plain": [
       "<IPython.core.display.HTML object>"
      ]
     },
     "metadata": {},
     "output_type": "display_data"
    },
    {
     "data": {
      "text/html": [
       "传暗黑<span style=\"color:red\">3</span>后续开发被经典游戏团队接手"
      ],
      "text/plain": [
       "<IPython.core.display.HTML object>"
      ]
     },
     "metadata": {},
     "output_type": "display_data"
    },
    {
     "data": {
      "text/html": [
       "穷得只剩下钱的国家：搭一次公交车<span style=\"color:red\">3</span>万亿元"
      ],
      "text/plain": [
       "<IPython.core.display.HTML object>"
      ]
     },
     "metadata": {},
     "output_type": "display_data"
    },
    {
     "data": {
      "text/html": [
       "又挂<span style=\"color:red\">3</span><span style=\"color:red\">0</span>.5万m?宅地!中心区<span style=\"color:red\">3</span>地起拍价超1<span style=\"color:red\">0</span><span style=\"color:red\">0</span>"
      ],
      "text/plain": [
       "<IPython.core.display.HTML object>"
      ]
     },
     "metadata": {},
     "output_type": "display_data"
    },
    {
     "data": {
      "text/html": [
       "中国国家博物馆1<span style=\"color:red\">0</span>月<span style=\"color:red\">3</span>日至7日对社会正常开放"
      ],
      "text/plain": [
       "<IPython.core.display.HTML object>"
      ]
     },
     "metadata": {},
     "output_type": "display_data"
    },
    {
     "data": {
      "text/html": [
       "英超<span style=\"color:red\">-</span>佩佩处子球奥巴梅扬绝杀!1<span style=\"color:red\">0</span>人阿森纳<span style=\"color:red\">3</span><span style=\"color:red\">-</span>2"
      ],
      "text/plain": [
       "<IPython.core.display.HTML object>"
      ]
     },
     "metadata": {},
     "output_type": "display_data"
    },
    {
     "data": {
      "text/html": [
       "<span style=\"color:red\">3</span>+1房2厅2卫"
      ],
      "text/plain": [
       "<IPython.core.display.HTML object>"
      ]
     },
     "metadata": {},
     "output_type": "display_data"
    },
    {
     "data": {
      "text/html": [
       "高职学生第<span style=\"color:red\">3</span>次炫耀在寝室吃火锅"
      ],
      "text/plain": [
       "<IPython.core.display.HTML object>"
      ]
     },
     "metadata": {},
     "output_type": "display_data"
    },
    {
     "data": {
      "text/html": [
       "关于全新马自达<span style=\"color:red\">3</span>"
      ],
      "text/plain": [
       "<IPython.core.display.HTML object>"
      ]
     },
     "metadata": {},
     "output_type": "display_data"
    },
    {
     "data": {
      "text/html": [
       "中国国家博物馆1<span style=\"color:red\">0</span>月<span style=\"color:red\">3</span>日至7日对社会正常开放"
      ],
      "text/plain": [
       "<IPython.core.display.HTML object>"
      ]
     },
     "metadata": {},
     "output_type": "display_data"
    },
    {
     "data": {
      "text/html": [
       "枪炮与宝藏的狂欢——《无主之地<span style=\"color:red\">3</span>》评测"
      ],
      "text/plain": [
       "<IPython.core.display.HTML object>"
      ]
     },
     "metadata": {},
     "output_type": "display_data"
    },
    {
     "data": {
      "text/html": [
       "枪炮与宝藏的狂欢——《无主之地<span style=\"color:red\">3</span>》评测"
      ],
      "text/plain": [
       "<IPython.core.display.HTML object>"
      ]
     },
     "metadata": {},
     "output_type": "display_data"
    },
    {
     "data": {
      "text/html": [
       "关于全新马自达<span style=\"color:red\">3</span>"
      ],
      "text/plain": [
       "<IPython.core.display.HTML object>"
      ]
     },
     "metadata": {},
     "output_type": "display_data"
    },
    {
     "data": {
      "text/html": [
       "5G发布：号称最轻薄5G机，售价<span style=\"color:red\">3</span>"
      ],
      "text/plain": [
       "<IPython.core.display.HTML object>"
      ]
     },
     "metadata": {},
     "output_type": "display_data"
    },
    {
     "data": {
      "text/html": [
       "枪炮与宝藏的狂欢——《无主之地<span style=\"color:red\">3</span>》评测"
      ],
      "text/plain": [
       "<IPython.core.display.HTML object>"
      ]
     },
     "metadata": {},
     "output_type": "display_data"
    },
    {
     "data": {
      "text/html": [
       "<span style=\"color:red\">3</span><span style=\"color:red\">-</span>2艰难逆转!中国女排力挫巴西"
      ],
      "text/plain": [
       "<IPython.core.display.HTML object>"
      ]
     },
     "metadata": {},
     "output_type": "display_data"
    },
    {
     "data": {
      "text/html": [
       "海马汽车卖房求生:4<span style=\"color:red\">0</span>1套房<span style=\"color:red\">3</span>个月仅卖掉15套"
      ],
      "text/plain": [
       "<IPython.core.display.HTML object>"
      ]
     },
     "metadata": {},
     "output_type": "display_data"
    },
    {
     "data": {
      "text/html": [
       "国家发改委:中国高铁里程突破<span style=\"color:red\">3</span>万公里"
      ],
      "text/plain": [
       "<IPython.core.display.HTML object>"
      ]
     },
     "metadata": {},
     "output_type": "display_data"
    },
    {
     "data": {
      "text/html": [
       "高职学生第<span style=\"color:red\">3</span>次炫耀在寝室吃火锅"
      ],
      "text/plain": [
       "<IPython.core.display.HTML object>"
      ]
     },
     "metadata": {},
     "output_type": "display_data"
    }
   ],
   "source": [
    "query = \"苹果芯片 and (三星 or 华为)\"\n",
    "print(\"|\".join(jieba.cut(query)))\n",
    "print(searcher.conv_query(query))\n",
    "for title in searcher.search(query):\n",
    "    display(HTML(title))\n",
    "\n",
    "query = \"3 - 0\"\n",
    "print(\"|\".join(jieba.cut(query)))\n",
    "print(searcher.conv_query(query))\n",
    "for title in searcher.search(query):\n",
    "    display(HTML(title))"
   ]
  },
  {
   "cell_type": "code",
   "execution_count": 18,
   "metadata": {},
   "outputs": [],
   "source": [
    "import string\n",
    "\n",
    "class SearcherIIndexVII(Searcheriindex):\n",
    "            \n",
    "    def parse_doc(self, doc):\n",
    "        result = []\n",
    "        state_last = ''\n",
    "        cache = ''\n",
    "        for c in doc:\n",
    "            state_c = c in string.ascii_letters \\\n",
    "                or c.isdigit() \\\n",
    "                or c in ('-', ':', '.')\n",
    "            if c == ' ':\n",
    "                if state_last:\n",
    "                    result.append(cache)\n",
    "                else:\n",
    "                    result.extend(list(jieba.cut_for_search(cache)))\n",
    "                if state_last != '':     \n",
    "                    result.append(' ')\n",
    "                cache = ''\n",
    "                state_last = '' \n",
    "            else:\n",
    "                if state_c == state_last:\n",
    "                    cache += c\n",
    "                else:\n",
    "                    if state_last != '':\n",
    "                        if state_last:\n",
    "                            result.append(cache)\n",
    "                        else:\n",
    "                            result.extend(list(jieba.cut_for_search(cache)))\n",
    "                    cache = c\n",
    "                state_last = state_c\n",
    "        if cache:\n",
    "            if state_last:\n",
    "                result.append(cache)\n",
    "            else:\n",
    "                result.extend(list(jieba.cut_for_search(cache)))\n",
    "        return result\n",
    "    \n",
    "    def parse_query(self, doc):\n",
    "        result = []\n",
    "        state_last = ''\n",
    "        cache = ''\n",
    "        for c in doc:\n",
    "            state_c = c in string.ascii_letters \\\n",
    "                or c.isdigit() \\\n",
    "                or c in ('-', ':', '.')\n",
    "            if c == ' ':\n",
    "                if state_last:\n",
    "                    result.append(cache)\n",
    "                else:\n",
    "                    result.extend(list(jieba.cut(cache)))\n",
    "                if state_last != '':result.append(' ')\n",
    "                cache = ''\n",
    "                state_last = '' \n",
    "            else:\n",
    "                if state_c == state_last:\n",
    "                    cache += c\n",
    "                else:\n",
    "                    if state_last != '':\n",
    "                        if state_last:\n",
    "                            result.append(cache)\n",
    "                        else:\n",
    "                            result.extend(list(jieba.cut(cache)))\n",
    "                    cache = c\n",
    "                state_last = state_c\n",
    "        if cache:\n",
    "            if state_last:\n",
    "                result.append(cache)\n",
    "            else:\n",
    "                result.extend(list(jieba.cut(cache)))\n",
    "        return result\n",
    "    \n",
    "    def add_doc(self, doc):\n",
    "        \"\"\"向索引中添加新文档\n",
    "        \n",
    "        Args:\n",
    "            doc:待检索的文档(文本)\n",
    "        \n",
    "        Returns:\n",
    "            新增文档ID\n",
    "        \"\"\"\n",
    "        self.title_list.append(doc)\n",
    "        for term in self.parse_doc(doc):\n",
    "            #构建和更新各Term对应的Posting(集合)\n",
    "            if term in self.index: \n",
    "                self.index[term].add(self.max_id)\n",
    "            else:\n",
    "                self.index[term] = set([self.max_id])\n",
    "        self.max_id += 1\n",
    "        return self.max_id - 1\n",
    "    \n",
    "    def dumpIndex(self):\n",
    "        print(self.index)\n",
    "        \n",
    "    def conv_query(self,query):\n",
    "        query_new_parts = []\n",
    "        all_parts = list(self.parse_query(query))\n",
    "        idx = 0\n",
    "        cache = \"\"\n",
    "        count_parts = len(all_parts)\n",
    "        while idx < count_parts:\n",
    "            if all_parts[idx] == \"(\" or all_parts[idx] == \")\":\n",
    "                query_new_parts.append(all_parts[idx])\n",
    "            elif all_parts[idx] == \" \":\n",
    "                query_new_parts.append(\" \")\n",
    "            elif all_parts[idx] in (\"and\", \"AND\", \"+\"):\n",
    "                query_new_parts.append(\"&\")\n",
    "            elif all_parts[idx] in (\"or\", \"OR\"):\n",
    "                query_new_parts.append(\"|\")\n",
    "            elif all_parts[idx] in (\"not\", \"NOT\", \"-\"):\n",
    "                query_new_parts.append(\"-\")\n",
    "            elif (idx + 1 < count_parts\n",
    "                  and all_parts[idx+1] not in (\" \", \")\")):\n",
    "                cache += \"self.term_match('{}') & \".format(all_parts[idx])\n",
    "            elif (idx + 2 < count_parts\n",
    "                  and all_parts[idx+1] == \" \"\n",
    "                  and all_parts[idx+2] not in (\"(\", \")\", \"and\", \"AND\", \"+\", \"or\", \"OR\", \"not\", \"NOT\", \"-\")):\n",
    "                query_new_parts.append(\"self.term_match('{}') & \".format(all_parts[idx]))\n",
    "                idx += 2\n",
    "                continue\n",
    "            else:\n",
    "                query_new_parts.append(cache + \"self.term_match('{}')\".format(all_parts[idx]))\n",
    "                cache = \"\"\n",
    "            idx += 1\n",
    "        query_new = \" \".join(query_new_parts)\n",
    "        return query_new\n",
    "    \n",
    "    def term_match(self,term):\n",
    "        return self.index.get(term, set())\n"
   ]
  },
  {
   "cell_type": "code",
   "execution_count": 24,
   "metadata": {},
   "outputs": [
    {
     "name": "stdout",
     "output_type": "stream",
     "text": [
      "['3-0', ' ', 'and', ' ', '(', '中国', '美国', ')']\n",
      "self.term_match('3-0')   &   ( self.term_match('中国') & self.term_match('美国') )\n"
     ]
    },
    {
     "data": {
      "text/html": [
       "一边倒！<span style=\"color:red\">中国</span>女排<span style=\"color:red\">3</span><span style=\"color:red\">-</span><span style=\"color:red\">0</span>横扫<span style=\"color:red\">美国</span>取七连胜"
      ],
      "text/plain": [
       "<IPython.core.display.HTML object>"
      ]
     },
     "metadata": {},
     "output_type": "display_data"
    },
    {
     "data": {
      "text/html": [
       "一边倒！<span style=\"color:red\">中国</span>女排<span style=\"color:red\">3</span><span style=\"color:red\">-</span><span style=\"color:red\">0</span>横扫<span style=\"color:red\">美国</span>取七连胜"
      ],
      "text/plain": [
       "<IPython.core.display.HTML object>"
      ]
     },
     "metadata": {},
     "output_type": "display_data"
    },
    {
     "data": {
      "text/html": [
       "一边倒！<span style=\"color:red\">中国</span>女排<span style=\"color:red\">3</span><span style=\"color:red\">-</span><span style=\"color:red\">0</span>横扫<span style=\"color:red\">美国</span>取七连胜"
      ],
      "text/plain": [
       "<IPython.core.display.HTML object>"
      ]
     },
     "metadata": {},
     "output_type": "display_data"
    },
    {
     "data": {
      "text/html": [
       "一边倒！<span style=\"color:red\">中国</span>女排<span style=\"color:red\">3</span><span style=\"color:red\">-</span><span style=\"color:red\">0</span>横扫<span style=\"color:red\">美国</span>取七连胜"
      ],
      "text/plain": [
       "<IPython.core.display.HTML object>"
      ]
     },
     "metadata": {},
     "output_type": "display_data"
    },
    {
     "data": {
      "text/html": [
       "一边倒！<span style=\"color:red\">中国</span>女排<span style=\"color:red\">3</span><span style=\"color:red\">-</span><span style=\"color:red\">0</span>横扫<span style=\"color:red\">美国</span>取七连胜"
      ],
      "text/plain": [
       "<IPython.core.display.HTML object>"
      ]
     },
     "metadata": {},
     "output_type": "display_data"
    }
   ],
   "source": [
    "searcherII = SearcherIIndexVII(\"tiles.txt\")\n",
    "query = \"3-0 and (中国美国)\"\n",
    "print(searcherII.parse_query(query))\n",
    "print(searcherII.conv_query(query))\n",
    "result = searcherII.search(query)\n",
    "if result:\n",
    "    for doc in result:\n",
    "        display(HTML(doc))\n",
    "else:\n",
    "    print(\"No result\")\n"
   ]
  },
  {
   "cell_type": "code",
   "execution_count": null,
   "metadata": {},
   "outputs": [],
   "source": []
  },
  {
   "cell_type": "code",
   "execution_count": null,
   "metadata": {},
   "outputs": [],
   "source": []
  }
 ],
 "metadata": {
  "kernelspec": {
   "display_name": "Python 3",
   "language": "python",
   "name": "python3"
  },
  "language_info": {
   "codemirror_mode": {
    "name": "ipython",
    "version": 3
   },
   "file_extension": ".py",
   "mimetype": "text/x-python",
   "name": "python",
   "nbconvert_exporter": "python",
   "pygments_lexer": "ipython3",
   "version": "3.7.0"
  }
 },
 "nbformat": 4,
 "nbformat_minor": 4
}
